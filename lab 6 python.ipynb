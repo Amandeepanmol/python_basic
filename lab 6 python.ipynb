{
 "cells": [
  {
   "cell_type": "code",
   "execution_count": 1,
   "metadata": {},
   "outputs": [
    {
     "name": "stdout",
     "output_type": "stream",
     "text": [
      "Enter the size of list:5\n",
      "78\n",
      "89\n",
      "90\n",
      "98\n",
      "99\n",
      "[78, 89, 90, 98, 99]\n",
      "[99, 98, 90, 89, 78]\n",
      "454\n"
     ]
    }
   ],
   "source": [
    "# Q5 WAP to create a list with 5 numbers and display the following:\n",
    "#. Reverse of the list without using builtin function. 2. Sum of digits in a list.\n",
    "\n",
    "n=int(input(\"Enter the size of list:\"))\n",
    "l1=[]\n",
    "for i in range(n):\n",
    "    ele=int(input())\n",
    "    l1.append(ele)\n",
    "print(l1)\n",
    "\n",
    "print(l1[::-1])\n",
    "sum=0\n",
    "for i in l1:\n",
    "    sum+=i\n",
    "print(sum)\n"
   ]
  },
  {
   "cell_type": "code",
   "execution_count": 2,
   "metadata": {},
   "outputs": [
    {
     "name": "stdout",
     "output_type": "stream",
     "text": [
      "Enter the size of list:3\n",
      "1\n",
      "3\n",
      "5\n",
      "[1, 3, 5]\n",
      "[1, 3, 10, 5]\n"
     ]
    }
   ],
   "source": [
    "# Q4 WAP to show the different methoods to insert an element in a list\n",
    "\n",
    "n=int(input(\"Enter the size of list:\"))\n",
    "l1=[]\n",
    "for i in range(n):\n",
    "    ele=int(input())\n",
    "    l1.append(ele)    #append add element at end of list\n",
    "print(l1)\n",
    "\n",
    "l1.insert(2,10)             #insert add element at particular index specified by ous\n",
    "print(l1)\n"
   ]
  },
  {
   "cell_type": "code",
   "execution_count": 3,
   "metadata": {},
   "outputs": [
    {
     "name": "stdout",
     "output_type": "stream",
     "text": [
      "{2: 'b', 3: 'c', 4: 'd'}\n",
      "{2: 'b', 4: 'd'}\n",
      "{}\n"
     ]
    },
    {
     "ename": "NameError",
     "evalue": "name 'd1' is not defined",
     "output_type": "error",
     "traceback": [
      "\u001b[1;31m---------------------------------------------------------------------------\u001b[0m",
      "\u001b[1;31mNameError\u001b[0m                                 Traceback (most recent call last)",
      "\u001b[1;32m<ipython-input-3-11d35d2493e8>\u001b[0m in \u001b[0;36m<module>\u001b[1;34m\u001b[0m\n\u001b[0;32m     13\u001b[0m \u001b[1;33m\u001b[0m\u001b[0m\n\u001b[0;32m     14\u001b[0m \u001b[1;32mdel\u001b[0m \u001b[0md1\u001b[0m                 \u001b[1;31m#delete entire dictionary\u001b[0m\u001b[1;33m\u001b[0m\u001b[1;33m\u001b[0m\u001b[0m\n\u001b[1;32m---> 15\u001b[1;33m \u001b[0mprint\u001b[0m\u001b[1;33m(\u001b[0m\u001b[0md1\u001b[0m\u001b[1;33m)\u001b[0m              \u001b[1;31m#here u will get error as entire dictionary is deleted\u001b[0m\u001b[1;33m\u001b[0m\u001b[1;33m\u001b[0m\u001b[0m\n\u001b[0m\u001b[0;32m     16\u001b[0m \u001b[1;33m\u001b[0m\u001b[0m\n",
      "\u001b[1;31mNameError\u001b[0m: name 'd1' is not defined"
     ]
    }
   ],
   "source": [
    "# Q3 WAP to show the different options for removing elements from a dictionary.\n",
    "\n",
    "\n",
    "d1={1:'a',2:'b',3:'c',4:'d'}\n",
    "d1.pop(1)          #remove the key-value pair\n",
    "print(d1)\n",
    "\n",
    "del d1[3]         #specified key can be removed\n",
    "print(d1)\n",
    "\n",
    "d1.clear()                #removes all entries in dictionary\n",
    "print(d1)\n",
    "\n",
    "del d1                 #delete entire dictionary\n",
    "print(d1)              #here u will get error as entire dictionary is deleted\n",
    "\n"
   ]
  },
  {
   "cell_type": "code",
   "execution_count": 18,
   "metadata": {},
   "outputs": [
    {
     "name": "stdout",
     "output_type": "stream",
     "text": [
      "{1: {'Name': 'Amandeep', 'Roll_NO': 203}, 2: {'Marks 1': 98, 'Marks 2': 90, 'Marks 3': 97}}\n"
     ]
    }
   ],
   "source": [
    "#Q2WAP to create a nested dictionary where the key values should be \"name\", \"roll_no\" and \"subject\", here subject should be a nested dictionary in which there will 3 more elements which will contain marks of 3 subjects.\n",
    "d1= {1: {'Name': 'Amandeep', 'Roll_NO': 203}, 2: {'Marks 1': 98, 'Marks 2': 90 ,'Marks 3': 97 }}\n",
    "print(d1)"
   ]
  },
  {
   "cell_type": "code",
   "execution_count": 11,
   "metadata": {},
   "outputs": [
    {
     "name": "stdout",
     "output_type": "stream",
     "text": [
      "Enter no of items in dictionary:3\n",
      "Enter key: a\n",
      "Enter value: 1\n",
      "Enter key: 2\n",
      "Enter value: 2\n",
      "Enter key: c\n",
      "Enter value: 3\n",
      "{}\n"
     ]
    }
   ],
   "source": [
    "#Q1WAP to accept both keys and values from a user and create a dictionary with following constraints:\n",
    "#1. The Keys should not be numeric. 2. The length of key should not be more than 6 and the value should only be even.\n",
    "\n",
    "n=int(input(\"Enter no of items in dictionary:\"))\n",
    "d={}\n",
    "for i in range(n):\n",
    "    key=input(\"Enter key: \")\n",
    "    val=int(input(\"Enter value: \"))\n",
    "    if(key.isnumeric()!=True and len(key)<=6 and val%2==0):\n",
    "        d[key]=val\n",
    "print(d)\n",
    "\n"
   ]
  },
  {
   "cell_type": "code",
   "execution_count": null,
   "metadata": {},
   "outputs": [],
   "source": []
  }
 ],
 "metadata": {
  "kernelspec": {
   "display_name": "Python 3",
   "language": "python",
   "name": "python3"
  },
  "language_info": {
   "codemirror_mode": {
    "name": "ipython",
    "version": 3
   },
   "file_extension": ".py",
   "mimetype": "text/x-python",
   "name": "python",
   "nbconvert_exporter": "python",
   "pygments_lexer": "ipython3",
   "version": "3.8.6"
  }
 },
 "nbformat": 4,
 "nbformat_minor": 4
}
