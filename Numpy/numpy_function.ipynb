{
 "cells": [
  {
   "cell_type": "markdown",
   "metadata": {},
   "source": [
    "## Numpy_basic_Function"
   ]
  },
  {
   "cell_type": "code",
   "execution_count": 16,
   "metadata": {},
   "outputs": [
    {
     "name": "stdout",
     "output_type": "stream",
     "text": [
      "[ 89 809  99]\n",
      "3\n",
      "4\n",
      "1\n",
      "(3,)\n",
      "int32\n"
     ]
    }
   ],
   "source": [
    "import numpy as n\n",
    "a=n.array([89,809,99])\n",
    "print(a) \n",
    "print(a.size)          #size of array\n",
    "print(a.itemsize)      #size of datatype of value present in array\n",
    "print(a.ndim)          #dimension of array\n",
    "print(a.shape)         #shape of array\n",
    "print(a.dtype)         #datatype of array"
   ]
  },
  {
   "cell_type": "code",
   "execution_count": 8,
   "metadata": {},
   "outputs": [
    {
     "name": "stdout",
     "output_type": "stream",
     "text": [
      "91\n",
      "82\n",
      "93\n",
      "94\n",
      "95\n",
      "89\n",
      "6\n",
      "1\n",
      "(6,)\n"
     ]
    }
   ],
   "source": [
    "import numpy as n\n",
    "l=[91,82,93,94,95,89]       #creating 1d array from list using numpy\n",
    "a=n.array(l)\n",
    "for ele in a:\n",
    "    print(ele)\n",
    "print(a.size)\n",
    "print(a.ndim)\n",
    "print(a.shape)"
   ]
  },
  {
   "cell_type": "code",
   "execution_count": 22,
   "metadata": {},
   "outputs": [
    {
     "name": "stdout",
     "output_type": "stream",
     "text": [
      "1\n",
      "2\n",
      "3\n",
      "4\n",
      "5\n",
      "6\n",
      "2\n",
      "(2, 3)\n"
     ]
    }
   ],
   "source": [
    "import numpy as n\n",
    "l=[[1,2,3],[4,5,6]]\n",
    "a=n.array(l)\n",
    "#for ele in a:\n",
    "    #print(ele)\n",
    "for ele in a:\n",
    "    for item in ele:\n",
    "        print(item)         # taking each element from the row\n",
    "\n",
    "print(a.ndim)\n",
    "print(a.shape)"
   ]
  },
  {
   "cell_type": "code",
   "execution_count": 23,
   "metadata": {},
   "outputs": [
    {
     "name": "stdout",
     "output_type": "stream",
     "text": [
      "[1.+0.j 2.+0.j 3.+0.j]\n"
     ]
    }
   ],
   "source": [
    "import numpy as a\n",
    "l=[1,2,3]\n",
    "a=n.array(l,dtype=complex)       #give 1 d array of complex type\n",
    "print(a)"
   ]
  },
  {
   "cell_type": "code",
   "execution_count": 25,
   "metadata": {},
   "outputs": [
    {
     "data": {
      "text/plain": [
       "array([[10, 20, 30],\n",
       "       [40, 50, 60],\n",
       "       [70, 80, 90]])"
      ]
     },
     "execution_count": 25,
     "metadata": {},
     "output_type": "execute_result"
    }
   ],
   "source": [
    "import numpy as n\n",
    "a=n.array([[10,20,30],[40,50,60],[70,80,90]])\n",
    "a"
   ]
  },
  {
   "cell_type": "code",
   "execution_count": 27,
   "metadata": {},
   "outputs": [
    {
     "name": "stdout",
     "output_type": "stream",
     "text": [
      "[[50 60]\n",
      " [80 90]]\n"
     ]
    }
   ],
   "source": [
    "print(a[1:3,1:3])  #slicing is done to get sub-array of lowermost right side\n"
   ]
  },
  {
   "cell_type": "code",
   "execution_count": 28,
   "metadata": {},
   "outputs": [
    {
     "name": "stdout",
     "output_type": "stream",
     "text": [
      "[[10 20 30]\n",
      " [40 50 60]\n",
      " [70 80 90]]\n"
     ]
    }
   ],
   "source": [
    "print(a[:,:])   #give u full 3d-array"
   ]
  },
  {
   "cell_type": "code",
   "execution_count": 45,
   "metadata": {},
   "outputs": [
    {
     "name": "stdout",
     "output_type": "stream",
     "text": [
      "Enter size: 9\n",
      "89\n",
      "78\n",
      "80\n",
      "98\n",
      "97\n",
      "96\n",
      "99\n",
      "90\n",
      "87\n",
      "[89 78 80 98 97 96 99 90 87]\n"
     ]
    }
   ],
   "source": [
    "import numpy as a\n",
    "size=int(input(\"Enter size: \"))\n",
    "arr=a.ndarray(shape=(size),dtype=int)\n",
    "\n",
    "for i in range(size):\n",
    "    ele=int(input())\n",
    "    arr[i]=ele              #creating user-define 1- Dimensional Array\n",
    "print(arr)"
   ]
  },
  {
   "cell_type": "code",
   "execution_count": 44,
   "metadata": {},
   "outputs": [
    {
     "name": "stdout",
     "output_type": "stream",
     "text": [
      "1 2 3 4 -8 -10\n",
      "[-10.  -8.   4.   3.   2.   1.]\n"
     ]
    }
   ],
   "source": [
    "import numpy\n",
    "def arrays(arr):\n",
    "    # complete this function\n",
    "    # use numpy.array\n",
    "    a=numpy.array(arr,dtype=float)\n",
    "    return a[::-1]\n",
    "\n",
    "arr = input().split(' ')\n",
    "result = arrays(arr)\n",
    "print(result)                   #Hackerrank numpy array question"
   ]
  },
  {
   "cell_type": "code",
   "execution_count": null,
   "metadata": {},
   "outputs": [],
   "source": [
    "import numpy as n\n",
    "row=int(input())\n",
    "col=int(input())                           \n",
    "a=n.ndarray(shape=(row,col),dtype=float)      #user-defined 2-d array using numpy\n",
    "for i in range(row):\n",
    "    for j in range(col):\n",
    "        a[i,j]=int(input())\n",
    "print(a)\n"
   ]
  },
  {
   "cell_type": "code",
   "execution_count": null,
   "metadata": {},
   "outputs": [],
   "source": []
  }
 ],
 "metadata": {
  "kernelspec": {
   "display_name": "Python 3",
   "language": "python",
   "name": "python3"
  },
  "language_info": {
   "codemirror_mode": {
    "name": "ipython",
    "version": 3
   },
   "file_extension": ".py",
   "mimetype": "text/x-python",
   "name": "python",
   "nbconvert_exporter": "python",
   "pygments_lexer": "ipython3",
   "version": "3.8.6"
  }
 },
 "nbformat": 4,
 "nbformat_minor": 4
}
