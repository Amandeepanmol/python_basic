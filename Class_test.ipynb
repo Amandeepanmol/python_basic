{
 "cells": [
  {
   "cell_type": "code",
   "execution_count": 1,
   "metadata": {},
   "outputs": [
    {
     "name": "stdout",
     "output_type": "stream",
     "text": [
      "['Rollno', 'Name', 'Subject']\n",
      "['R134218203', 'Amandeep Singh', 'Python']\n"
     ]
    }
   ],
   "source": [
    "import csv\n",
    "def create_csv_file():              #create the file\n",
    "    records=[{'Rollno':'R134218203',\n",
    "              'Name':'Amandeep Singh',\n",
    "              'Subject':'Python'}]\n",
    "    csv_writer=csv.writer(open('record.csv','w'),delimiter=',')\n",
    "    csv_writer.writerow(['Rollno','Name','Subject'])\n",
    "    for record in records: \n",
    "        csv_writer.writerow([record['Rollno'],record['Name'],record['Subject']])\n",
    "\n",
    "def read_csv_file():                      #reading the file\n",
    "    for rows in csv.reader(open('record.csv','r'),delimiter=','):\n",
    "        if(len(rows)>0):\n",
    "            print(rows)\n",
    "        \n",
    "if __name__==\"__main__\":\n",
    "    create_csv_file()     #this will create the csv file\n",
    "    read_csv_file()       #this will read the file"
   ]
  },
  {
   "cell_type": "code",
   "execution_count": null,
   "metadata": {},
   "outputs": [],
   "source": [
    "from tkinter import *\n",
    "def LoginPage():\n",
    "    root=Tk()\n",
    "    root.title(\"Welcome_to_Bank_Details\")\n",
    "    l1=Label(root, text=\"Please enter login details\",fg='red',bg='yellow').pack()\n",
    "    l2=Label(root, text=\"\").pack()\n",
    "    l3=Label(root, text=\"Accountnumber\",fg='black',bg='orange').pack()\n",
    "    username_login_entry = Entry(root, textvariable=\"username\")\n",
    "    username_login_entry.pack()\n",
    "    Label(root, text=\"\").pack()\n",
    "    Label(root, text=\"Password\").pack()\n",
    "    password__login_entry = Entry(root, textvariable=\"password\", show= '*',fg='grey',bg='white')\n",
    "    password__login_entry.pack()\n",
    "    Label(root, text=\"\").pack()\n",
    "    Button(root, text=\"Login\", padx=5, pady=10).pack()\n",
    "    root.mainloop()\n",
    "\n",
    "\n",
    "def read():\n",
    "    file= open(\"Amandeep.txt\",\"w+\")\n",
    "    balance_account=input(\"enter the balance to save in the file-\")\n",
    "    file.write(balance_account)\n",
    "    file.close()\n",
    "    j=open(\"Amandeep.txt\",\"r\")\n",
    "    balance_account=j.read()\n",
    "    balance=int(balance_account)\n",
    "    j.close\n",
    "    argument=int(input(\"Press 0 for withdrawl or Press 1 for deposited-\"))\n",
    "    if argument==0 :\n",
    "        n=int(input(\"enter the withdrawl amaount\"))\n",
    "        amount=balance-n\n",
    "        print(\"the balance\",amount)\n",
    "    if argument==1 :\n",
    "         y=int(input(\"Enter the amount to be deposited-\"))\n",
    "         amount=balance+y\n",
    "         print(\"the balance\",amount)\n",
    "\n",
    "\n",
    "if __name__==\"__main__\":\n",
    "    LoginPage()     \n",
    "    read()  "
   ]
  },
  {
   "cell_type": "code",
   "execution_count": null,
   "metadata": {},
   "outputs": [],
   "source": []
  }
 ],
 "metadata": {
  "kernelspec": {
   "display_name": "Python 3",
   "language": "python",
   "name": "python3"
  },
  "language_info": {
   "codemirror_mode": {
    "name": "ipython",
    "version": 3
   },
   "file_extension": ".py",
   "mimetype": "text/x-python",
   "name": "python",
   "nbconvert_exporter": "python",
   "pygments_lexer": "ipython3",
   "version": "3.8.6"
  }
 },
 "nbformat": 4,
 "nbformat_minor": 4
}
