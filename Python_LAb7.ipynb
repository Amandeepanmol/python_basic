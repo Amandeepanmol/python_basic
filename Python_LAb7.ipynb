{
 "cells": [
  {
   "cell_type": "code",
   "execution_count": 15,
   "metadata": {},
   "outputs": [
    {
     "name": "stdout",
     "output_type": "stream",
     "text": [
      "Enter Name:Amandeep\n",
      "Enter Address:Lucknow\n",
      "Enter Contact Number:988888888888\n"
     ]
    }
   ],
   "source": [
    "#1.WAP to create a file & store the following information (taken from the user) 1)name 2) Add 3) Contact Info\n",
    "\n",
    "file=open(\"file1.txt\", \"w\")\n",
    "Name=input(\"Enter Name:\")\n",
    "Add=input(\"Enter Address:\")\n",
    "ContactNo=int(input(\"Enter Contact Number:\"))\n",
    "file.write(\"Name:\"+Name+\"\\n\")\n",
    "file.write(\"Address:\"+Add+\"\\n\")\n",
    "file.write(\"ContactInfo:\"+str(ContactNo)+\"\\n\")\n",
    "file.close()"
   ]
  },
  {
   "cell_type": "code",
   "execution_count": 18,
   "metadata": {},
   "outputs": [
    {
     "name": "stdout",
     "output_type": "stream",
     "text": [
      "Name:Amandeep\n",
      "Address:Lucknow\n",
      "ContactInfo:988888888888\n"
     ]
    }
   ],
   "source": [
    "#2.Open and read the file after the appending:\n",
    "file=open(\"file1.txt\",\"r\")\n",
    "for i in file:\n",
    "    print(i,end=\"\")"
   ]
  },
  {
   "cell_type": "code",
   "execution_count": 23,
   "metadata": {},
   "outputs": [
    {
     "name": "stdout",
     "output_type": "stream",
     "text": [
      "2\n"
     ]
    }
   ],
   "source": [
    "#3.WAP to create to count the no. of times, the program is accessed \n",
    "    \n",
    "file=open(\"file1.txt\",\"r\")\n",
    "a=file.read()\n",
    "file.close()\n",
    "file=open(\"file1.txt\",\"w\")\n",
    "if(len(a)==0):\n",
    "    file.write(\"0\")\n",
    "else:\n",
    "    b=int(a)\n",
    "    b=b+1\n",
    "    b=str(b)\n",
    "    file.write(b)\n",
    "print(a) "
   ]
  },
  {
   "cell_type": "code",
   "execution_count": null,
   "metadata": {},
   "outputs": [],
   "source": [
    "#4.WAP to count the no. of occurrences of a word in a text file.\n",
    "\n",
    "c=0\n",
    "input1=input(\"enter the word to be searched in a file:\")\n",
    "file=open(\"file1.txt\",\"r\")\n",
    "words=file.read().split(\" \")\n",
    "for i in words:\n",
    "    if (input1==i) :\n",
    "        c=c+1\n",
    "print(c)\n",
    "file.close()"
   ]
  },
  {
   "cell_type": "code",
   "execution_count": null,
   "metadata": {},
   "outputs": [],
   "source": []
  }
 ],
 "metadata": {
  "kernelspec": {
   "display_name": "Python 3",
   "language": "python",
   "name": "python3"
  },
  "language_info": {
   "codemirror_mode": {
    "name": "ipython",
    "version": 3
   },
   "file_extension": ".py",
   "mimetype": "text/x-python",
   "name": "python",
   "nbconvert_exporter": "python",
   "pygments_lexer": "ipython3",
   "version": "3.8.6"
  }
 },
 "nbformat": 4,
 "nbformat_minor": 4
}
